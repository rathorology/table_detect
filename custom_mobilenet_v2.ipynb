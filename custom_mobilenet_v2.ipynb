{
  "nbformat": 4,
  "nbformat_minor": 0,
  "metadata": {
    "colab": {
      "name": "Untitled0.ipynb",
      "private_outputs": true,
      "provenance": [],
      "authorship_tag": "ABX9TyPJm8fnvUr9u37xEEbWQ4+g",
      "include_colab_link": true
    },
    "kernelspec": {
      "name": "python3",
      "display_name": "Python 3"
    },
    "language_info": {
      "name": "python"
    },
    "accelerator": "GPU"
  },
  "cells": [
    {
      "cell_type": "markdown",
      "metadata": {
        "id": "view-in-github",
        "colab_type": "text"
      },
      "source": [
        "<a href=\"https://colab.research.google.com/github/rathorology/table_detect/blob/master/custom_mobilenet_v2.ipynb\" target=\"_parent\"><img src=\"https://colab.research.google.com/assets/colab-badge.svg\" alt=\"Open In Colab\"/></a>"
      ]
    },
    {
      "cell_type": "code",
      "metadata": {
        "id": "4ZXi_axuJOae"
      },
      "source": [
        ""
      ],
      "execution_count": null,
      "outputs": []
    },
    {
      "cell_type": "code",
      "metadata": {
        "id": "46dD-eM5JzVO"
      },
      "source": [
        "from google.colab import drive\n",
        "drive.mount('/content/drive')"
      ],
      "execution_count": null,
      "outputs": []
    },
    {
      "cell_type": "code",
      "metadata": {
        "id": "Wl9Nb_kUiuRY"
      },
      "source": [
        "! git clone https://github.com/rathorology/table_detect.git"
      ],
      "execution_count": null,
      "outputs": []
    },
    {
      "cell_type": "markdown",
      "metadata": {
        "id": "jtIhzwOwJT01"
      },
      "source": [
        "# New section"
      ]
    },
    {
      "cell_type": "code",
      "metadata": {
        "id": "FhRbK68uKHQy"
      },
      "source": [
        "!cd /content/table_detect/table_detection/; pip install -r requirements.txt"
      ],
      "execution_count": null,
      "outputs": []
    },
    {
      "cell_type": "code",
      "metadata": {
        "id": "1z7_FbezXqAR"
      },
      "source": [
        "!cd table_detect/table_detection/; git clone https://github.com/tensorflow/models.git\n",
        "!cp -r /content/table_detect/table_detection/models/official /content/table_detect/table_detection\n",
        "!cp -r /content/table_detect/table_detection/models/research/object_detection /content/table_detect/table_detection\n",
        "!export PYTHONPATH=$PYTHONPATH:/content/table_detect/table_detection/models/\n",
        "!cd table_detect/table_detection/;protoc object_detection/protos/*.proto --python_out=.\n"
      ],
      "execution_count": null,
      "outputs": []
    },
    {
      "cell_type": "code",
      "metadata": {
        "id": "3yH06_uWYU--"
      },
      "source": [
        "!cd /content/table_detect/table_detection/; python format_csv.py"
      ],
      "execution_count": null,
      "outputs": []
    },
    {
      "cell_type": "code",
      "metadata": {
        "id": "qx58DXHuZmA6"
      },
      "source": [
        "!cd /content/table_detect/table_detection/; python generate_tfrecord.py --csv_input=data/train_labels.csv --output_path=data/train.record\n",
        "!cd /content/table_detect/table_detection/; python generate_tfrecord.py --csv_input=data/test_labels.csv --output_path=data/test.record\n"
      ],
      "execution_count": null,
      "outputs": []
    },
    {
      "cell_type": "code",
      "metadata": {
        "id": "Szc_wv_JcM0k"
      },
      "source": [
        "!cd /content/table_detect/table_detection/;python model_main_tf2.py --pipeline_config_path=ssd_mobilenet_v2_320x320_coco17_tpu-8/pipeline.config --model_dir=trained-checkpoint --alsologtostderr --num_train_steps=50000 --sample_1_of_n_eval_examples=1 --num_eval_steps=1\n"
      ],
      "execution_count": null,
      "outputs": []
    }
  ]
}